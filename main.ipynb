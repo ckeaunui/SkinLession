{
 "cells": [
  {
   "cell_type": "code",
   "id": "initial_id",
   "metadata": {
    "collapsed": true,
    "ExecuteTime": {
     "end_time": "2024-05-12T23:52:31.697019Z",
     "start_time": "2024-05-12T23:52:31.695037Z"
    }
   },
   "source": [
    "import numpy as np\n",
    "import pandas as pd\n",
    "\n",
    "import tensorflow as tf\n",
    "from tensorflow.keras.preprocessing.image import ImageDataGenerator\n",
    "from tensorflow.keras.models import Sequential\n",
    "from tensorflow.keras.layers import Conv2D, MaxPooling2D, Flatten, Dense, Dropout"
   ],
   "outputs": [],
   "execution_count": 2
  },
  {
   "metadata": {},
   "cell_type": "markdown",
   "source": "## Gather data",
   "id": "a357304f357c1aa0"
  },
  {
   "metadata": {
    "ExecuteTime": {
     "end_time": "2024-05-12T23:52:34.737912Z",
     "start_time": "2024-05-12T23:52:34.587185Z"
    }
   },
   "cell_type": "code",
   "source": [
    "# Gather metadata\n",
    "metadata_path = 'dataverse_files/HAM10000_metadata'\n",
    "metadata = pd.read_csv(metadata_path)\n",
    "for idx, row in metadata.iterrows():\n",
    "    metadata.at[idx, 'img_path'] = 'dataverse_files/Images/' + row['image_id'] + '.jpg'"
   ],
   "id": "12f16c434bb7d3a0",
   "outputs": [],
   "execution_count": 3
  },
  {
   "metadata": {},
   "cell_type": "markdown",
   "source": "## Data augmentation",
   "id": "d2e6be58df18ce1b"
  },
  {
   "metadata": {
    "ExecuteTime": {
     "end_time": "2024-05-12T23:52:37.194332Z",
     "start_time": "2024-05-12T23:52:37.192429Z"
    }
   },
   "cell_type": "code",
   "source": [
    "# Prepare image data\n",
    "train_datagen = ImageDataGenerator(\n",
    "    rescale=1.0/255,\n",
    "    rotation_range=180,\n",
    "    width_shift_range=0.1,\n",
    "    height_shift_range=0.1,\n",
    "    shear_range=0.2,\n",
    "    zoom_range=0.2,\n",
    "    horizontal_flip=True,\n",
    "    vertical_flip=True,\n",
    "    fill_mode='nearest',\n",
    "    validation_split=0.2\n",
    ")\n",
    "\n",
    "test_datagen = ImageDataGenerator(\n",
    "    rescale=1.0/255,\n",
    "    validation_split=0.2\n",
    ")"
   ],
   "id": "881f55c9eaea9096",
   "outputs": [],
   "execution_count": 4
  },
  {
   "metadata": {
    "ExecuteTime": {
     "end_time": "2024-05-12T23:52:44.110312Z",
     "start_time": "2024-05-12T23:52:44.035857Z"
    }
   },
   "cell_type": "code",
   "source": [
    "# Apply augmentation\n",
    "batch_size = 32\n",
    "seed = 123\n",
    "\n",
    "train_generator = train_datagen.flow_from_dataframe(\n",
    "    dataframe=metadata,\n",
    "    seed=seed,\n",
    "    target_size=(150, 150),\n",
    "    x_col='img_path',\n",
    "    y_col='dx',\n",
    "    batch_size=batch_size,\n",
    "    class_mode='categorical',\n",
    "    subset='training'\n",
    ")\n",
    "\n",
    "test_generator = test_datagen.flow_from_dataframe(\n",
    "    dataframe=metadata,\n",
    "    seed=seed,\n",
    "    target_size=(150, 150),\n",
    "    x_col='img_path',\n",
    "    y_col='dx',\n",
    "    batch_size=batch_size,\n",
    "    class_mode='categorical',\n",
    "    subset='validation',\n",
    ")"
   ],
   "id": "2aba22a19271dac3",
   "outputs": [
    {
     "name": "stdout",
     "output_type": "stream",
     "text": [
      "Found 8012 validated image filenames belonging to 7 classes.\n",
      "Found 2003 validated image filenames belonging to 7 classes.\n"
     ]
    }
   ],
   "execution_count": 5
  },
  {
   "metadata": {},
   "cell_type": "markdown",
   "source": "## Train",
   "id": "963a8e4e039d2e19"
  },
  {
   "metadata": {
    "ExecuteTime": {
     "end_time": "2024-05-12T23:52:45.234921Z",
     "start_time": "2024-05-12T23:52:45.172763Z"
    }
   },
   "cell_type": "code",
   "source": [
    "model = Sequential([\n",
    "    Conv2D(32, (3, 3), activation='relu', input_shape=(150, 150, 3)),\n",
    "    MaxPooling2D(2, 2),\n",
    "    Conv2D(64, (3, 3), activation='relu'),\n",
    "    MaxPooling2D(2, 2),\n",
    "    Conv2D(128, (3, 3), activation='relu'),\n",
    "    MaxPooling2D(2, 2),\n",
    "    Flatten(),\n",
    "    Dense(512, activation='relu'),\n",
    "    Dropout(0.5),\n",
    "    Dense(7, activation='softmax')\n",
    "])\n",
    "\n",
    "model.compile(optimizer='adam', loss='categorical_crossentropy', metrics=['accuracy'])\n"
   ],
   "id": "5937d667c483e82e",
   "outputs": [
    {
     "name": "stderr",
     "output_type": "stream",
     "text": [
      "/Users/ckeaunui/PycharmProjects/SkinLession/.venv/lib/python3.12/site-packages/keras/src/layers/convolutional/base_conv.py:107: UserWarning: Do not pass an `input_shape`/`input_dim` argument to a layer. When using Sequential models, prefer using an `Input(shape)` object as the first layer in the model instead.\n",
      "  super().__init__(activity_regularizer=activity_regularizer, **kwargs)\n"
     ]
    }
   ],
   "execution_count": 6
  },
  {
   "metadata": {
    "ExecuteTime": {
     "end_time": "2024-05-13T00:14:01.311935Z",
     "start_time": "2024-05-13T00:11:24.340668Z"
    }
   },
   "cell_type": "code",
   "source": [
    "history = model.fit(\n",
    "    train_generator, \n",
    "    steps_per_epoch = train_generator.samples // batch_size,\n",
    "    epochs=5, \n",
    "    validation_data=test_generator,\n",
    "    validation_steps = test_generator.samples // batch_size,\n",
    ")"
   ],
   "id": "5ac7733ee5513faf",
   "outputs": [
    {
     "name": "stdout",
     "output_type": "stream",
     "text": [
      "Epoch 1/5\n",
      "\u001B[1m250/250\u001B[0m \u001B[32m━━━━━━━━━━━━━━━━━━━━\u001B[0m\u001B[37m\u001B[0m \u001B[1m52s\u001B[0m 205ms/step - accuracy: 0.8670 - loss: 0.4026 - val_accuracy: 0.0010 - val_loss: 7.1178\n",
      "Epoch 2/5\n",
      "\u001B[1m250/250\u001B[0m \u001B[32m━━━━━━━━━━━━━━━━━━━━\u001B[0m\u001B[37m\u001B[0m \u001B[1m0s\u001B[0m 130us/step - accuracy: 0.9375 - loss: 0.1892 - val_accuracy: 0.0000e+00 - val_loss: 6.6146\n",
      "Epoch 3/5\n"
     ]
    },
    {
     "name": "stderr",
     "output_type": "stream",
     "text": [
      "2024-05-12 17:12:17.166238: W tensorflow/core/framework/local_rendezvous.cc:404] Local rendezvous is aborting with status: OUT_OF_RANGE: End of sequence\n",
      "\t [[{{node IteratorGetNext}}]]\n",
      "/Library/Frameworks/Python.framework/Versions/3.12/lib/python3.12/contextlib.py:158: UserWarning: Your input ran out of data; interrupting training. Make sure that your dataset or generator can generate at least `steps_per_epoch * epochs` batches. You may need to use the `.repeat()` function when building your dataset.\n",
      "  self.gen.throw(value)\n",
      "2024-05-12 17:12:17.193891: W tensorflow/core/framework/local_rendezvous.cc:404] Local rendezvous is aborting with status: OUT_OF_RANGE: End of sequence\n",
      "\t [[{{node IteratorGetNext}}]]\n"
     ]
    },
    {
     "name": "stdout",
     "output_type": "stream",
     "text": [
      "\u001B[1m250/250\u001B[0m \u001B[32m━━━━━━━━━━━━━━━━━━━━\u001B[0m\u001B[37m\u001B[0m \u001B[1m52s\u001B[0m 205ms/step - accuracy: 0.8623 - loss: 0.4061 - val_accuracy: 0.0010 - val_loss: 7.7812\n",
      "Epoch 4/5\n",
      "\u001B[1m250/250\u001B[0m \u001B[32m━━━━━━━━━━━━━━━━━━━━\u001B[0m\u001B[37m\u001B[0m \u001B[1m0s\u001B[0m 116us/step - accuracy: 0.8750 - loss: 0.4344 - val_accuracy: 0.0000e+00 - val_loss: 8.1501\n",
      "Epoch 5/5\n"
     ]
    },
    {
     "name": "stderr",
     "output_type": "stream",
     "text": [
      "2024-05-12 17:13:09.494543: W tensorflow/core/framework/local_rendezvous.cc:404] Local rendezvous is aborting with status: OUT_OF_RANGE: End of sequence\n",
      "\t [[{{node IteratorGetNext}}]]\n",
      "2024-05-12 17:13:09.519921: W tensorflow/core/framework/local_rendezvous.cc:404] Local rendezvous is aborting with status: OUT_OF_RANGE: End of sequence\n",
      "\t [[{{node IteratorGetNext}}]]\n"
     ]
    },
    {
     "name": "stdout",
     "output_type": "stream",
     "text": [
      "\u001B[1m250/250\u001B[0m \u001B[32m━━━━━━━━━━━━━━━━━━━━\u001B[0m\u001B[37m\u001B[0m \u001B[1m52s\u001B[0m 203ms/step - accuracy: 0.8695 - loss: 0.3847 - val_accuracy: 0.0010 - val_loss: 7.3536\n"
     ]
    }
   ],
   "execution_count": 15
  },
  {
   "metadata": {
    "ExecuteTime": {
     "end_time": "2024-05-13T00:17:03.567157Z",
     "start_time": "2024-05-13T00:16:56.991969Z"
    }
   },
   "cell_type": "code",
   "source": [
    "# print(test_generator.class_indices)\n",
    "# model.predict(test_generator, steps=test_generator.samples//batch_size)"
   ],
   "id": "1b84bd6ada3c58b",
   "outputs": [
    {
     "name": "stdout",
     "output_type": "stream",
     "text": [
      "{'akiec': 0, 'bcc': 1, 'bkl': 2, 'df': 3, 'mel': 4, 'nv': 5, 'vasc': 6}\n",
      "\u001B[1m62/62\u001B[0m \u001B[32m━━━━━━━━━━━━━━━━━━━━\u001B[0m\u001B[37m\u001B[0m \u001B[1m6s\u001B[0m 102ms/step\n"
     ]
    },
    {
     "data": {
      "text/plain": [
       "array([[5.5260941e-02, 5.6012049e-02, 2.7041954e-03, ..., 1.0241340e-01,\n",
       "        7.8099126e-01, 2.6121612e-03],\n",
       "       [4.4427207e-01, 3.1853583e-01, 2.9852355e-03, ..., 4.9562000e-02,\n",
       "        1.7236327e-01, 1.2146307e-02],\n",
       "       [4.3315914e-02, 3.2830402e-02, 2.9189333e-03, ..., 1.0747351e-01,\n",
       "        8.1149328e-01, 1.9623975e-03],\n",
       "       ...,\n",
       "       [1.7450683e-01, 6.0560156e-02, 2.3388257e-03, ..., 9.2700094e-02,\n",
       "        6.6780001e-01, 2.0812652e-03],\n",
       "       [1.9614326e-02, 2.2181813e-02, 5.7444642e-05, ..., 1.4577818e-02,\n",
       "        9.4305706e-01, 5.1158556e-04],\n",
       "       [2.8952625e-02, 4.3899585e-03, 1.2760797e-05, ..., 1.8032838e-02,\n",
       "        9.4832152e-01, 2.9017971e-04]], dtype=float32)"
      ]
     },
     "execution_count": 20,
     "metadata": {},
     "output_type": "execute_result"
    }
   ],
   "execution_count": 20
  },
  {
   "metadata": {},
   "cell_type": "markdown",
   "source": "## Accuracy",
   "id": "98591d4b81b5479a"
  },
  {
   "metadata": {
    "ExecuteTime": {
     "end_time": "2024-05-13T00:19:12.011481Z",
     "start_time": "2024-05-13T00:19:12.009659Z"
    }
   },
   "cell_type": "code",
   "source": [
    "# Final accuracy\n",
    "print(history.history['accuracy'][-1])"
   ],
   "id": "b082f862908d2fbf",
   "outputs": [
    {
     "name": "stdout",
     "output_type": "stream",
     "text": [
      "0.8703007698059082\n"
     ]
    }
   ],
   "execution_count": 29
  }
 ],
 "metadata": {
  "kernelspec": {
   "display_name": "Python 3",
   "language": "python",
   "name": "python3"
  },
  "language_info": {
   "codemirror_mode": {
    "name": "ipython",
    "version": 2
   },
   "file_extension": ".py",
   "mimetype": "text/x-python",
   "name": "python",
   "nbconvert_exporter": "python",
   "pygments_lexer": "ipython2",
   "version": "2.7.6"
  }
 },
 "nbformat": 4,
 "nbformat_minor": 5
}
